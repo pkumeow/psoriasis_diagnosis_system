{
 "cells": [
  {
   "cell_type": "code",
   "execution_count": 1,
   "metadata": {},
   "outputs": [],
   "source": [
    "from __future__ import print_function, division\n",
    "import os\n",
    "import torch\n",
    "import pandas as pd\n",
    "from skimage import io, transform\n",
    "import numpy as np\n",
    "import torch.nn as nn\n",
    "from torch.utils.data import Dataset, DataLoader\n",
    "from torchvision import transforms, models\n",
    "from visdom import Visdom"
   ]
  },
  {
   "cell_type": "code",
   "execution_count": 2,
   "metadata": {},
   "outputs": [],
   "source": [
    "# 自定义数据集\n",
    "class MyDataset(Dataset):\n",
    "    def __init__(self, dataframe, root_dir, transform=None):\n",
    "        self.questionnaire_data = dataframe\n",
    "        self.root_dir = root_dir\n",
    "        self.transform = transform\n",
    "    def __len__(self):\n",
    "        return len(self.questionnaire_data)\n",
    "\n",
    "    def __getitem__(self, idx):\n",
    "        img_name = os.path.join(self.root_dir,\"patient\"+str(self.questionnaire_data.iloc[idx, 0]),self.questionnaire_data.iloc[idx, 1])\n",
    "        image = io.imread(img_name)\n",
    "        questionnaire = self.questionnaire_data.iloc[idx, 3:].tolist()\n",
    "        label = self.questionnaire_data.iloc[idx, 2]\n",
    "        sample = {'image': image, 'questionnaire': questionnaire, 'label': label}\n",
    "        if self.transform:\n",
    "            sample = self.transform(sample)\n",
    "        return sample"
   ]
  },
  {
   "cell_type": "code",
   "execution_count": 3,
   "metadata": {},
   "outputs": [],
   "source": [
    "\n",
    "class ToTensor(object):\n",
    "    def __call__(self, sample):\n",
    "        image = sample['image']\n",
    "        # swap color axis because\n",
    "        # numpy image: H x W x C\n",
    "        # torch image: C X H X W\n",
    "        image = image.transpose((2, 0, 1)).copy()\n",
    "        return {'image': torch.from_numpy(image).float(), 'questionnaire': torch.Tensor(sample['questionnaire']), 'label':sample['label']}"
   ]
  },
  {
   "cell_type": "code",
   "execution_count": 4,
   "metadata": {},
   "outputs": [],
   "source": [
    "class JointNet(nn.Module):\n",
    "    def __init__(self,feature_extract=True, num_classes=3, hidden1=2048, hidden2=512, dropout=0.3):\n",
    "        super(JointNet, self).__init__()\n",
    "        model = models.vgg16(pretrained=True)\n",
    "        self.features = model.features\n",
    "        set_parameter_requires_grad(self.features, feature_extract)#固定特征提取层参数\n",
    "        self.avgpool=model.avgpool\n",
    "        self.hidden = nn.Sequential(\n",
    "            nn.Linear(512*7*7 , hidden1),\n",
    "            nn.ReLU(),\n",
    "            nn.Linear(hidden1 , hidden2),\n",
    "            nn.ReLU(),\n",
    "        )\n",
    "        self.classifier = nn.Sequential(\n",
    "            nn.Linear(hidden2+37, hidden2+37),\n",
    "            nn.Dropout(p=dropout),\n",
    "            nn.ReLU(),\n",
    "            nn.Linear(hidden2+37, num_classes)\n",
    "        )\n",
    "\n",
    "        \n",
    "    def forward(self, x):\n",
    "        img, quest = x\n",
    "        img = self.features(img)\n",
    "        img = self.avgpool(img)\n",
    "        img = img.view(img.size(0), 512*7*7)\n",
    "        img = self.hidden(img)\n",
    "        joint = torch.cat([img, quest],1)\n",
    "        out=self.classifier(joint)\n",
    "        return out\n",
    "    \n",
    "def set_parameter_requires_grad(model, feature_extracting):\n",
    "    if feature_extracting:\n",
    "        for param in model.parameters():\n",
    "            param.requires_grad = False"
   ]
  },
  {
   "cell_type": "code",
   "execution_count": 5,
   "metadata": {},
   "outputs": [],
   "source": [
    "device = torch.device(\"cuda:0\" if torch.cuda.is_available() else \"cpu\")\n",
    "model=JointNet(feature_extract=False).to(device)\n",
    "learning_rate=0.001\n",
    "num_epochs = 10\n",
    "criterion = nn.CrossEntropyLoss()\n",
    "optimizer = torch.optim.Adam(model.parameters(), lr=learning_rate)"
   ]
  },
  {
   "cell_type": "code",
   "execution_count": 6,
   "metadata": {},
   "outputs": [
    {
     "data": {
      "text/plain": [
       "<All keys matched successfully>"
      ]
     },
     "execution_count": 6,
     "metadata": {},
     "output_type": "execute_result"
    }
   ],
   "source": [
    "model2 = model=JointNet(feature_extract=False).to(device)\n",
    "model2.load_state_dict(torch.load(\"jointmodel.pth\"))"
   ]
  },
  {
   "cell_type": "code",
   "execution_count": 7,
   "metadata": {},
   "outputs": [],
   "source": [
    "huawei_df = pd.read_csv(\"对照组huawei数据.csv\", index_col=0)\n",
    "huawei_dataset = MyDataset(huawei_df,\"huawei\",transform=ToTensor())\n",
    "huawei_dataloader =DataLoader(huawei_dataset, batch_size=10,shuffle=True, num_workers=0)"
   ]
  },
  {
   "cell_type": "code",
   "execution_count": 8,
   "metadata": {},
   "outputs": [
    {
     "name": "stdout",
     "output_type": "stream",
     "text": [
      "1.0\n"
     ]
    }
   ],
   "source": [
    "model2.eval()\n",
    "huawei_correct = 0\n",
    "huawei_total = 0\n",
    "with torch.no_grad():\n",
    "    for sample_batched in huawei_dataloader:\n",
    "        data = [sample_batched['image'].to(device),sample_batched['questionnaire'].to(device)]\n",
    "        labels = sample_batched['label'].to(device)\n",
    "        outputs = model2(data)\n",
    "        _, predicted = torch.max(outputs.data, 1)\n",
    "        huawei_total += labels.size(0)\n",
    "        huawei_correct += (predicted == labels).sum().item()\n",
    "print(huawei_correct/huawei_total)"
   ]
  },
  {
   "cell_type": "code",
   "execution_count": 9,
   "metadata": {},
   "outputs": [],
   "source": [
    "iphone_df = pd.read_csv(\"对照组iphone数据.csv\", index_col=0)\n",
    "iphone_dataset = MyDataset(iphone_df,\"iphone\",transform=ToTensor())\n",
    "iphone_dataloader =DataLoader(iphone_dataset, batch_size=10,shuffle=True, num_workers=0)"
   ]
  },
  {
   "cell_type": "code",
   "execution_count": 10,
   "metadata": {},
   "outputs": [
    {
     "name": "stdout",
     "output_type": "stream",
     "text": [
      "1.0\n"
     ]
    }
   ],
   "source": [
    "model2.eval()\n",
    "iphone_correct = 0\n",
    "iphone_total = 0\n",
    "with torch.no_grad():\n",
    "    for sample_batched in iphone_dataloader:\n",
    "        data = [sample_batched['image'].to(device),sample_batched['questionnaire'].to(device)]\n",
    "        labels = sample_batched['label'].to(device)\n",
    "        outputs = model(data)\n",
    "        _, predicted = torch.max(outputs.data, 1)\n",
    "        iphone_total += labels.size(0)\n",
    "        iphone_correct += (predicted == labels).sum().item()\n",
    "print(iphone_correct/iphone_total)"
   ]
  },
  {
   "cell_type": "code",
   "execution_count": 15,
   "metadata": {},
   "outputs": [],
   "source": [
    "data_df = pd.read_csv(\"processed_data.csv\", index_col=0)\n",
    "train_df = data_df.sample(frac=0.8,random_state=0,axis=0)\n",
    "test_df = data_df[~data_df.index.isin(train_df.index)]\n",
    "train_dataset = MyDataset(train_df,\"patient\",transform=ToTensor())\n",
    "test_dataset = MyDataset(test_df,\"patient\",transform=ToTensor())\n",
    "train_dataloader =DataLoader(train_dataset, batch_size=10,shuffle=True, num_workers=0)\n",
    "test_dataloader =DataLoader(test_dataset, batch_size=10,shuffle=True, num_workers=0)"
   ]
  },
  {
   "cell_type": "code",
   "execution_count": 33,
   "metadata": {},
   "outputs": [],
   "source": [
    "train_prediction = []\n",
    "Y_train = []\n",
    "model2.eval()\n",
    "with torch.no_grad():\n",
    "    for sample_batched in train_dataloader:\n",
    "        data = [sample_batched['image'].to(device),sample_batched['questionnaire'].to(device)]\n",
    "        outputs = model(data)\n",
    "        _, predicted = torch.max(outputs.data, 1)\n",
    "        train_prediction.extend(predicted.tolist())\n",
    "        Y_train.extend(sample_batched['label'].tolist())\n"
   ]
  },
  {
   "cell_type": "code",
   "execution_count": 30,
   "metadata": {},
   "outputs": [],
   "source": [
    "from sklearn.metrics import classification_report"
   ]
  },
  {
   "cell_type": "code",
   "execution_count": 39,
   "metadata": {},
   "outputs": [
    {
     "name": "stdout",
     "output_type": "stream",
     "text": [
      "              precision    recall  f1-score   support\n",
      "\n",
      "          其他       0.88      1.00      0.93        78\n",
      "   寻常型银屑病-轻度       1.00      0.86      0.92        78\n",
      "  寻常型银屑病-中重度       1.00      1.00      1.00       286\n",
      "\n",
      "    accuracy                           0.98       442\n",
      "   macro avg       0.96      0.95      0.95       442\n",
      "weighted avg       0.98      0.98      0.97       442\n",
      "\n"
     ]
    }
   ],
   "source": [
    "print(classification_report(Y_train, train_prediction, target_names=['其他', '寻常型银屑病-轻度', '寻常型银屑病-中重度']))"
   ]
  },
  {
   "cell_type": "code",
   "execution_count": 35,
   "metadata": {},
   "outputs": [],
   "source": [
    "test_prediction = []\n",
    "Y_test = []\n",
    "model2.eval()\n",
    "with torch.no_grad():\n",
    "    for sample_batched in test_dataloader:\n",
    "        data = [sample_batched['image'].to(device),sample_batched['questionnaire'].to(device)]\n",
    "        outputs = model(data)\n",
    "        _, predicted = torch.max(outputs.data, 1)\n",
    "        test_prediction.extend(predicted.tolist())\n",
    "        Y_test.extend(sample_batched['label'].tolist())\n"
   ]
  },
  {
   "cell_type": "code",
   "execution_count": 38,
   "metadata": {},
   "outputs": [
    {
     "name": "stdout",
     "output_type": "stream",
     "text": [
      "              precision    recall  f1-score   support\n",
      "\n",
      "          其他       0.95      1.00      0.98        21\n",
      "   寻常型银屑病-轻度       1.00      0.92      0.96        13\n",
      "  寻常型银屑病-中重度       1.00      1.00      1.00        76\n",
      "\n",
      "    accuracy                           0.99       110\n",
      "   macro avg       0.98      0.97      0.98       110\n",
      "weighted avg       0.99      0.99      0.99       110\n",
      "\n"
     ]
    }
   ],
   "source": [
    "print(classification_report(Y_test, test_prediction, target_names=['其他', '寻常型银屑病-轻度', '寻常型银屑病-中重度']))"
   ]
  }
 ],
 "metadata": {
  "interpreter": {
   "hash": "6413956a40eef355478ed87a1dcd368543de9fb360f14f6e88f24d01d865be95"
  },
  "kernelspec": {
   "display_name": "Python 3.9.7 ('pytorch_gpu')",
   "language": "python",
   "name": "python3"
  },
  "language_info": {
   "codemirror_mode": {
    "name": "ipython",
    "version": 3
   },
   "file_extension": ".py",
   "mimetype": "text/x-python",
   "name": "python",
   "nbconvert_exporter": "python",
   "pygments_lexer": "ipython3",
   "version": "3.9.7"
  },
  "orig_nbformat": 4
 },
 "nbformat": 4,
 "nbformat_minor": 2
}
